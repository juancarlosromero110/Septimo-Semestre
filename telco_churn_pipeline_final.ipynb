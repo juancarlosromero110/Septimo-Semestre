{
 "cells": [
  {
   "cell_type": "markdown",
   "id": "7a379f3f",
   "metadata": {},
   "source": [
    "# 1. Carga de librerías"
   ]
  },
  {
   "cell_type": "code",
   "execution_count": null,
   "id": "c0d1276c",
   "metadata": {},
   "outputs": [],
   "source": [
    "import pandas as pd\n",
    "import numpy as np\n",
    "import matplotlib.pyplot as plt\n",
    "import seaborn as sns\n",
    "\n",
    "from sklearn.model_selection import train_test_split, GridSearchCV\n",
    "from sklearn.preprocessing import StandardScaler\n",
    "from sklearn.linear_model import LogisticRegression\n",
    "from sklearn.ensemble import RandomForestClassifier\n",
    "from sklearn.metrics import classification_report, confusion_matrix, roc_curve, auc, RocCurveDisplay\n"
   ]
  },
  {
   "cell_type": "markdown",
   "id": "eac8e1b3",
   "metadata": {},
   "source": [
    "# 2. Carga y revisión del dataset"
   ]
  },
  {
   "cell_type": "code",
   "execution_count": null,
   "id": "4e795dfd",
   "metadata": {},
   "outputs": [],
   "source": [
    "df = pd.read_csv(\"WA_Fn-UseC_-Telco-Customer-Churn.csv\")\n",
    "print(df.shape)\n",
    "print(df.dtypes)"
   ]
  },
  {
   "cell_type": "markdown",
   "id": "e13ce9ea",
   "metadata": {},
   "source": [
    "# 3. Limpieza de datos"
   ]
  },
  {
   "cell_type": "code",
   "execution_count": null,
   "id": "58549cf0",
   "metadata": {},
   "outputs": [],
   "source": [
    "df[\"TotalCharges\"] = pd.to_numeric(df[\"TotalCharges\"], errors=\"coerce\")\n",
    "df[\"TotalCharges\"] = df[\"TotalCharges\"].fillna(0)"
   ]
  },
  {
   "cell_type": "markdown",
   "id": "d1af5933",
   "metadata": {},
   "source": [
    "# 4. Análisis exploratorio"
   ]
  },
  {
   "cell_type": "code",
   "execution_count": null,
   "id": "cc8fe139",
   "metadata": {},
   "outputs": [],
   "source": [
    "sns.countplot(x=\"Churn\", data=df)\n",
    "plt.show()\n",
    "\n",
    "sns.countplot(x=\"Contract\", hue=\"Churn\", data=df)\n",
    "plt.show()\n",
    "\n",
    "sns.boxplot(x=\"Churn\", y=\"MonthlyCharges\", data=df)\n",
    "plt.show()"
   ]
  },
  {
   "cell_type": "markdown",
   "id": "932030af",
   "metadata": {},
   "source": [
    "# 5. Preprocesamiento"
   ]
  },
  {
   "cell_type": "code",
   "execution_count": null,
   "id": "310df47e",
   "metadata": {},
   "outputs": [],
   "source": [
    "df_enc = pd.get_dummies(df.drop(\"customerID\", axis=1), drop_first=True)\n",
    "X = df_enc.drop(\"Churn_Yes\", axis=1)\n",
    "y = df_enc[\"Churn_Yes\"]\n",
    "\n",
    "X_train, X_test, y_train, y_test = train_test_split(X, y, test_size=0.3, stratify=y, random_state=42)\n",
    "\n",
    "scaler = StandardScaler()\n",
    "num_cols = [\"tenure\", \"MonthlyCharges\", \"TotalCharges\"]\n",
    "X_train[num_cols] = scaler.fit_transform(X_train[num_cols])\n",
    "X_test[num_cols] = scaler.transform(X_test[num_cols])"
   ]
  },
  {
   "cell_type": "markdown",
   "id": "40902fea",
   "metadata": {},
   "source": [
    "# 6. Entrenamiento de modelos base"
   ]
  },
  {
   "cell_type": "code",
   "execution_count": null,
   "id": "8abffbf7",
   "metadata": {},
   "outputs": [],
   "source": [
    "logreg = LogisticRegression(max_iter=1000)\n",
    "logreg.fit(X_train, y_train)\n",
    "y_pred_log = logreg.predict(X_test)\n",
    "print(\"Logistic Regression\")\n",
    "print(classification_report(y_test, y_pred_log))\n",
    "\n",
    "rf = RandomForestClassifier(n_estimators=200, class_weight=\"balanced\", random_state=42)\n",
    "rf.fit(X_train, y_train)\n",
    "y_pred_rf = rf.predict(X_test)\n",
    "print(\"Random Forest\")\n",
    "print(classification_report(y_test, y_pred_rf))"
   ]
  },
  {
   "cell_type": "markdown",
   "id": "a939c64d",
   "metadata": {},
   "source": [
    "# 7. Matriz de confusión y curva ROC"
   ]
  },
  {
   "cell_type": "code",
   "execution_count": null,
   "id": "e84f97e5",
   "metadata": {},
   "outputs": [],
   "source": [
    "cm = confusion_matrix(y_test, y_pred_log)\n",
    "sns.heatmap(cm, annot=True, fmt=\"d\")\n",
    "plt.title(\"Confusion Matrix - Logistic Regression\")\n",
    "plt.show()\n",
    "\n",
    "fpr, tpr, _ = roc_curve(y_test, logreg.predict_proba(X_test)[:, 1])\n",
    "roc_auc = auc(fpr, tpr)\n",
    "plt.plot(fpr, tpr, label=f\"LogReg AUC = {roc_auc:.2f}\")\n",
    "plt.plot([0, 1], [0, 1], \"k--\")\n",
    "plt.xlabel(\"FPR\")\n",
    "plt.ylabel(\"TPR\")\n",
    "plt.title(\"ROC Curve\")\n",
    "plt.legend()\n",
    "plt.grid(True)\n",
    "plt.show()"
   ]
  },
  {
   "cell_type": "markdown",
   "id": "f1302780",
   "metadata": {},
   "source": [
    "# 8. Feature importance"
   ]
  },
  {
   "cell_type": "code",
   "execution_count": null,
   "id": "75cf7a05",
   "metadata": {},
   "outputs": [],
   "source": [
    "importances = rf.feature_importances_\n",
    "features = X.columns\n",
    "feat_df = pd.DataFrame({\"Feature\": features, \"Importance\": importances}).sort_values(by=\"Importance\", ascending=False)\n",
    "sns.barplot(data=feat_df.head(10), x=\"Importance\", y=\"Feature\")\n",
    "plt.title(\"Random Forest - Top 10 Features\")\n",
    "plt.show()"
   ]
  },
  {
   "cell_type": "markdown",
   "id": "445ecd0c",
   "metadata": {},
   "source": [
    "# 9. GridSearchCV para ajuste de hiperparámetros"
   ]
  },
  {
   "cell_type": "code",
   "execution_count": null,
   "id": "c151282d",
   "metadata": {},
   "outputs": [],
   "source": [
    "param_grid = {\n",
    "    \"C\": [0.01, 0.1, 1, 10, 100],\n",
    "    \"solver\": [\"liblinear\", \"lbfgs\"]\n",
    "}\n",
    "grid = GridSearchCV(LogisticRegression(max_iter=1000), param_grid, cv=5, scoring=\"f1\")\n",
    "grid.fit(X_train, y_train)\n",
    "print(\"Mejores parámetros:\", grid.best_params_)\n",
    "y_pred_best = grid.predict(X_test)\n",
    "print(classification_report(y_test, y_pred_best))"
   ]
  }
 ],
 "metadata": {},
 "nbformat": 4,
 "nbformat_minor": 5
}